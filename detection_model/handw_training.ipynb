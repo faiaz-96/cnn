{
 "cells": [
  {
   "cell_type": "code",
   "execution_count": null,
   "metadata": {
    "execution": {
     "iopub.execute_input": "2023-12-20T06:44:20.233625Z",
     "iopub.status.busy": "2023-12-20T06:44:20.233247Z",
     "iopub.status.idle": "2023-12-20T06:44:26.423408Z",
     "shell.execute_reply": "2023-12-20T06:44:26.422358Z",
     "shell.execute_reply.started": "2023-12-20T06:44:20.233587Z"
    },
    "trusted": true
   },
   "outputs": [
    {
     "name": "stdout",
     "output_type": "stream",
     "text": [
      "loading Roboflow workspace...\n"
     ]
    },
    {
     "ename": "RoboflowError",
     "evalue": "{\n    \"error\": {\n        \"message\": \"Unsupported get request. Workspace with ID \\\"buet-nzruv\\\" does not exist or cannot be loaded due to missing permissions.\",\n        \"status\": 404,\n        \"type\": \"GraphMethodException\",\n        \"hint\": \"You can see your available workspaces by issuing a GET request to /workspaces\"\n    }\n}",
     "output_type": "error",
     "traceback": [
      "\u001b[0;31m---------------------------------------------------------------------------\u001b[0m",
      "\u001b[0;31mRoboflowError\u001b[0m                             Traceback (most recent call last)",
      "Cell \u001b[0;32mIn[3], line 3\u001b[0m\n\u001b[1;32m      1\u001b[0m \u001b[38;5;28;01mfrom\u001b[39;00m\u001b[38;5;250m \u001b[39m\u001b[38;5;21;01mroboflow\u001b[39;00m\u001b[38;5;250m \u001b[39m\u001b[38;5;28;01mimport\u001b[39;00m Roboflow\n\u001b[1;32m      2\u001b[0m rf \u001b[38;5;241m=\u001b[39m Roboflow(api_key\u001b[38;5;241m=\u001b[39m\u001b[38;5;124m\"\u001b[39m\u001b[38;5;124mjsU8NLlOdBXOdjGahVL8\u001b[39m\u001b[38;5;124m\"\u001b[39m)\n\u001b[0;32m----> 3\u001b[0m project \u001b[38;5;241m=\u001b[39m \u001b[43mrf\u001b[49m\u001b[38;5;241;43m.\u001b[39;49m\u001b[43mworkspace\u001b[49m\u001b[43m(\u001b[49m\u001b[38;5;124;43m\"\u001b[39;49m\u001b[38;5;124;43mbuet-nzruv\u001b[39;49m\u001b[38;5;124;43m\"\u001b[39;49m\u001b[43m)\u001b[49m\u001b[38;5;241m.\u001b[39mproject(\u001b[38;5;124m\"\u001b[39m\u001b[38;5;124mhandwritten_fresh\u001b[39m\u001b[38;5;124m\"\u001b[39m)\n\u001b[1;32m      4\u001b[0m dataset \u001b[38;5;241m=\u001b[39m project\u001b[38;5;241m.\u001b[39mversion(\u001b[38;5;241m3\u001b[39m)\u001b[38;5;241m.\u001b[39mdownload(\u001b[38;5;124m\"\u001b[39m\u001b[38;5;124myolov8\u001b[39m\u001b[38;5;124m\"\u001b[39m)\n",
      "File \u001b[0;32m~/miniconda3/envs/resnet/lib/python3.10/site-packages/roboflow/__init__.py:238\u001b[0m, in \u001b[0;36mRoboflow.workspace\u001b[0;34m(self, the_workspace)\u001b[0m\n\u001b[1;32m    236\u001b[0m \u001b[38;5;28;01mif\u001b[39;00m \u001b[38;5;28mself\u001b[39m\u001b[38;5;241m.\u001b[39mapi_key:  \u001b[38;5;66;03m# Check if api_key was passed during __init__\u001b[39;00m\n\u001b[1;32m    237\u001b[0m     api_key \u001b[38;5;241m=\u001b[39m \u001b[38;5;28mself\u001b[39m\u001b[38;5;241m.\u001b[39mapi_key\n\u001b[0;32m--> 238\u001b[0m     list_projects \u001b[38;5;241m=\u001b[39m \u001b[43mrfapi\u001b[49m\u001b[38;5;241;43m.\u001b[39;49m\u001b[43mget_workspace\u001b[49m\u001b[43m(\u001b[49m\u001b[43mapi_key\u001b[49m\u001b[43m,\u001b[49m\u001b[43m \u001b[49m\u001b[43mthe_workspace\u001b[49m\u001b[43m)\u001b[49m\n\u001b[1;32m    239\u001b[0m     \u001b[38;5;28;01mreturn\u001b[39;00m Workspace(list_projects, api_key, the_workspace, \u001b[38;5;28mself\u001b[39m\u001b[38;5;241m.\u001b[39mmodel_format)\n\u001b[1;32m    241\u001b[0m \u001b[38;5;28;01melif\u001b[39;00m \u001b[38;5;28mself\u001b[39m\u001b[38;5;241m.\u001b[39mapi_key \u001b[38;5;129;01min\u001b[39;00m DEMO_KEYS:\n",
      "File \u001b[0;32m~/miniconda3/envs/resnet/lib/python3.10/site-packages/roboflow/adapters/rfapi.py:38\u001b[0m, in \u001b[0;36mget_workspace\u001b[0;34m(api_key, workspace_url)\u001b[0m\n\u001b[1;32m     36\u001b[0m response \u001b[38;5;241m=\u001b[39m requests\u001b[38;5;241m.\u001b[39mget(url)\n\u001b[1;32m     37\u001b[0m \u001b[38;5;28;01mif\u001b[39;00m response\u001b[38;5;241m.\u001b[39mstatus_code \u001b[38;5;241m!=\u001b[39m \u001b[38;5;241m200\u001b[39m:\n\u001b[0;32m---> 38\u001b[0m     \u001b[38;5;28;01mraise\u001b[39;00m RoboflowError(response\u001b[38;5;241m.\u001b[39mtext)\n\u001b[1;32m     39\u001b[0m result \u001b[38;5;241m=\u001b[39m response\u001b[38;5;241m.\u001b[39mjson()\n\u001b[1;32m     40\u001b[0m \u001b[38;5;28;01mreturn\u001b[39;00m result\n",
      "\u001b[0;31mRoboflowError\u001b[0m: {\n    \"error\": {\n        \"message\": \"Unsupported get request. Workspace with ID \\\"buet-nzruv\\\" does not exist or cannot be loaded due to missing permissions.\",\n        \"status\": 404,\n        \"type\": \"GraphMethodException\",\n        \"hint\": \"You can see your available workspaces by issuing a GET request to /workspaces\"\n    }\n}"
     ]
    }
   ],
   "source": [
    "from roboflow import Roboflow\n",
    "rf = Roboflow(api_key=\"*****\")\n",
    "project = rf.workspace(\"buet-nzruv\").project(\"handwritten_fresh\")\n",
    "dataset = project.version(3).download(\"yolov8\")"
   ]
  },
  {
   "cell_type": "code",
   "execution_count": 1,
   "metadata": {
    "execution": {
     "iopub.execute_input": "2023-12-20T06:44:26.424896Z",
     "iopub.status.busy": "2023-12-20T06:44:26.424470Z",
     "iopub.status.idle": "2023-12-20T06:44:26.431837Z",
     "shell.execute_reply": "2023-12-20T06:44:26.430967Z",
     "shell.execute_reply.started": "2023-12-20T06:44:26.424869Z"
    },
    "trusted": true
   },
   "outputs": [
    {
     "data": {
      "text/plain": [
       "'e:\\\\BanglaHandwrittenWord_detection\\\\detection_model'"
      ]
     },
     "execution_count": 1,
     "metadata": {},
     "output_type": "execute_result"
    }
   ],
   "source": [
    "import os\n",
    "os.getcwd()"
   ]
  },
  {
   "cell_type": "code",
   "execution_count": null,
   "metadata": {
    "trusted": true
   },
   "outputs": [],
   "source": [
    "import wandb\n",
    "\n",
    "wandb.login(key='******')\n",
    "\n",
    "!yolo task=detect mode=train model=yolov8m.pt data='data.yaml' epochs=300 imgsz=640"
   ]
  },
  {
   "cell_type": "code",
   "execution_count": null,
   "metadata": {
    "trusted": true
   },
   "outputs": [],
   "source": [
    "!yolo task=detect mode=predict model=runs/detect/train/weights/best.pt conf=0.5 source='handwritten_fresh-3/test/images' save_txt=True"
   ]
  },
  {
   "cell_type": "code",
   "execution_count": null,
   "metadata": {
    "trusted": true
   },
   "outputs": [],
   "source": [
    "import glob\n",
    "from IPython.display import Image, display\n",
    "\n",
    "for image_path in glob.glob(f'runs/detect/predict/*.jpg'):\n",
    "    display(Image(filename=image_path, height=600))\n",
    "    print('\\n')"
   ]
  }
 ],
 "metadata": {
  "kaggle": {
   "accelerator": "gpu",
   "dataSources": [
    {
     "datasetId": 4148489,
     "sourceId": 7178159,
     "sourceType": "datasetVersion"
    },
    {
     "datasetId": 4152296,
     "sourceId": 7183325,
     "sourceType": "datasetVersion"
    },
    {
     "datasetId": 4188122,
     "sourceId": 7232783,
     "sourceType": "datasetVersion"
    },
    {
     "datasetId": 4188282,
     "sourceId": 7233008,
     "sourceType": "datasetVersion"
    },
    {
     "datasetId": 4188285,
     "sourceId": 7233011,
     "sourceType": "datasetVersion"
    },
    {
     "datasetId": 4188495,
     "sourceId": 7233314,
     "sourceType": "datasetVersion"
    }
   ],
   "dockerImageVersionId": 30616,
   "isGpuEnabled": true,
   "isInternetEnabled": true,
   "language": "python",
   "sourceType": "notebook"
  },
  "kernelspec": {
   "display_name": "resnet",
   "language": "python",
   "name": "python3"
  },
  "language_info": {
   "codemirror_mode": {
    "name": "ipython",
    "version": 3
   },
   "file_extension": ".py",
   "mimetype": "text/x-python",
   "name": "python",
   "nbconvert_exporter": "python",
   "pygments_lexer": "ipython3",
   "version": "3.10.13"
  }
 },
 "nbformat": 4,
 "nbformat_minor": 4
}
